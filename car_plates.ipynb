{
 "cells": [
  {
   "cell_type": "code",
   "execution_count": 1,
   "metadata": {},
   "outputs": [],
   "source": [
    "import numpy as np \n",
    "import pandas as pd \n",
    "import matplotlib.pyplot as plt\n",
    "import seaborn as sns\n",
    "import os\n",
    "from sklearn.preprocessing import MinMaxScaler\n",
    "import tensorflow as tf\n",
    "from keras.models import Sequential\n",
    "from keras.layers import Dense\n",
    "from keras.layers import Dropout\n",
    "from keras.layers import Flatten\n",
    "from keras.layers.convolutional import Conv2D\n",
    "from keras.layers.convolutional import MaxPooling2D\n",
    "from keras import backend as K\n",
    "from keras.utils import np_utils\n",
    "from sklearn.model_selection import train_test_split\n",
    "from sklearn.metrics import confusion_matrix\n",
    "%matplotlib inline\n",
    "import matplotlib.image as mpimg\n",
    "import splitfolders\n"
   ]
  },
  {
   "cell_type": "code",
   "execution_count": 4,
   "metadata": {},
   "outputs": [
    {
     "data": {
      "text/html": [
       "<div>\n",
       "<style scoped>\n",
       "    .dataframe tbody tr th:only-of-type {\n",
       "        vertical-align: middle;\n",
       "    }\n",
       "\n",
       "    .dataframe tbody tr th {\n",
       "        vertical-align: top;\n",
       "    }\n",
       "\n",
       "    .dataframe thead th {\n",
       "        text-align: right;\n",
       "    }\n",
       "</style>\n",
       "<table border=\"1\" class=\"dataframe\">\n",
       "  <thead>\n",
       "    <tr style=\"text-align: right;\">\n",
       "      <th></th>\n",
       "      <th>img.name</th>\n",
       "      <th>label</th>\n",
       "    </tr>\n",
       "  </thead>\n",
       "  <tbody>\n",
       "    <tr>\n",
       "      <th>0</th>\n",
       "      <td>car001.jpg</td>\n",
       "      <td>ر ب ل ١ ٨ ٢ ٧</td>\n",
       "    </tr>\n",
       "    <tr>\n",
       "      <th>1</th>\n",
       "      <td>car002.jpg</td>\n",
       "      <td>ى ن ر ٤ ٦ ٢ ٥</td>\n",
       "    </tr>\n",
       "    <tr>\n",
       "      <th>2</th>\n",
       "      <td>car003.jpg</td>\n",
       "      <td>ع س ط ١ ٣ ٧ ٥</td>\n",
       "    </tr>\n",
       "    <tr>\n",
       "      <th>3</th>\n",
       "      <td>car004.jpg</td>\n",
       "      <td>أ ج س ٤ ١ ٤ ٧</td>\n",
       "    </tr>\n",
       "    <tr>\n",
       "      <th>4</th>\n",
       "      <td>car005.jpg</td>\n",
       "      <td>ق ج ل ٢ ٧ ٣ ٩</td>\n",
       "    </tr>\n",
       "  </tbody>\n",
       "</table>\n",
       "</div>"
      ],
      "text/plain": [
       "     img.name           label\n",
       "0  car001.jpg   ر ب ل ١ ٨ ٢ ٧\n",
       "1  car002.jpg  ى ن ر ٤ ٦ ٢ ٥ \n",
       "2  car003.jpg  ع س ط ١ ٣ ٧ ٥ \n",
       "3  car004.jpg   أ ج س ٤ ١ ٤ ٧\n",
       "4  car005.jpg   ق ج ل ٢ ٧ ٣ ٩"
      ]
     },
     "execution_count": 4,
     "metadata": {},
     "output_type": "execute_result"
    }
   ],
   "source": [
    "splitfolders.ratio(input=\"/car_plates/\", output=\"output\", seed=1337, ratio=(.8, 0.1,0.1))\n",
    "\n",
    "dataset=pd.read_csv(r'/car_plates/PoolLabels.csv')\n",
    "dataset.head()"
   ]
  },
  {
   "cell_type": "code",
   "execution_count": null,
   "metadata": {},
   "outputs": [],
   "source": [
    "training_img= dataset['img.name']\n",
    "training_label=dataset['label']\n",
    "training_img.head()"
   ]
  },
  {
   "cell_type": "code",
   "execution_count": null,
   "metadata": {},
   "outputs": [],
   "source": [
    "from PIL import Image\n",
    "directory = '/car_plates/Pics/'\n",
    "\n",
    "x=[]\n",
    "y=[]\n",
    "\n",
    "for i in range(training_img.__len__()):\n",
    "    training_img[i]=directory+training_img[i]\n",
    "\n",
    "\n",
    "for i in range(training_img.__len__()):\n",
    "    x.append(training_img[i])\n",
    "    y.append(training_label[i])\n",
    "\n"
   ]
  },
  {
   "cell_type": "code",
   "execution_count": null,
   "metadata": {},
   "outputs": [],
   "source": [
    "plt.title(y[200])\n",
    "# plt.figure(figsize = (12,10))\n",
    "# plt.subplot(1,2,1)\n",
    "# plt.title('Original image')\n",
    "img = mpimg.imread(x[200])\n",
    "print(img)\n",
    "plt.imshow(img)\n"
   ]
  },
  {
   "cell_type": "code",
   "execution_count": null,
   "metadata": {},
   "outputs": [],
   "source": [
    "\n",
    "\n",
    "x_train,x_test,y_train,y_test=train_test_split(training_img,training_label,train_size=0.7)\n"
   ]
  },
  {
   "cell_type": "code",
   "execution_count": null,
   "metadata": {},
   "outputs": [],
   "source": [
    "from keras.preprocessing.image import ImageDataGenerator\n",
    "\n",
    "train_datagen = ImageDataGenerator(\n",
    "    rescale = 1./255,\n",
    "    rotation_range=40,\n",
    "    width_shift_range=0.2,\n",
    "    height_shift_range=0.2,\n",
    "    shear_range=0.2,\n",
    "    zoom_range=0.2,\n",
    "    horizontal_flip=True,\n",
    "    fill_mode='nearest'\n",
    "    )\n",
    "test_datagen = ImageDataGenerator(rescale = 1./255)"
   ]
  },
  {
   "cell_type": "code",
   "execution_count": null,
   "metadata": {},
   "outputs": [],
   "source": [
    "train_generator = train_datagen.flow_from_dataframe(\n",
    "    dataframe=dataset,\n",
    "    directory=\"/car_plates/Pics/\",\n",
    "                  x_col='img.name',\n",
    "                  y_col='label',\n",
    "                  target_size =(150, 150),  # target_size = input image size\n",
    "                  batch_size = 32,\n",
    "                  class_mode ='categorical')\n",
    "\n",
    "# test_generator = test_datagen.flow_from_dataframe(\n",
    "#                     x_test,\n",
    "#                     target_size =(150, 150),\n",
    "#                     batch_size = 20,\n",
    "#                     class_mode ='binary')"
   ]
  },
  {
   "cell_type": "code",
   "execution_count": null,
   "metadata": {},
   "outputs": [],
   "source": [
    "train_generator.class_indices\n",
    "train_generator.dtype"
   ]
  }
 ],
 "metadata": {
  "kernelspec": {
   "display_name": "tf2.4",
   "language": "python",
   "name": "python3"
  },
  "language_info": {
   "codemirror_mode": {
    "name": "ipython",
    "version": 3
   },
   "file_extension": ".py",
   "mimetype": "text/x-python",
   "name": "python",
   "nbconvert_exporter": "python",
   "pygments_lexer": "ipython3",
   "version": "3.10.0"
  },
  "orig_nbformat": 4,
  "vscode": {
   "interpreter": {
    "hash": "253ae6feff4fd1b8c72e2ad785b88438628b5b076110376ae0f22865de7b119a"
   }
  }
 },
 "nbformat": 4,
 "nbformat_minor": 2
}
