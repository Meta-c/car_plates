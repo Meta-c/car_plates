{
 "cells": [
  {
   "cell_type": "code",
   "execution_count": 1,
   "metadata": {},
   "outputs": [],
   "source": [
    "import numpy as np \n",
    "import pandas as pd \n",
    "import matplotlib.pyplot as plt\n",
    "import seaborn as sns\n",
    "import os\n",
    "from sklearn.preprocessing import MinMaxScaler\n",
    "import tensorflow as tf\n",
    "from keras.models import Sequential\n",
    "from keras.layers import Dense\n",
    "from keras.layers import Dropout\n",
    "from keras.layers import Flatten\n",
    "from keras.layers.convolutional import Conv2D\n",
    "from keras.layers.convolutional import MaxPooling2D\n",
    "from keras import backend as K\n",
    "from keras.utils import np_utils\n",
    "from sklearn.model_selection import train_test_split\n",
    "from sklearn.metrics import confusion_matrix\n",
    "%matplotlib inline\n",
    "import matplotlib.image as mpimg\n",
    "import splitfolders\n",
    "import cv2\n",
    "import glob\n",
    "\n"
   ]
  },
  {
   "cell_type": "code",
   "execution_count": 2,
   "metadata": {},
   "outputs": [
    {
     "data": {
      "text/html": [
       "<div>\n",
       "<style scoped>\n",
       "    .dataframe tbody tr th:only-of-type {\n",
       "        vertical-align: middle;\n",
       "    }\n",
       "\n",
       "    .dataframe tbody tr th {\n",
       "        vertical-align: top;\n",
       "    }\n",
       "\n",
       "    .dataframe thead th {\n",
       "        text-align: right;\n",
       "    }\n",
       "</style>\n",
       "<table border=\"1\" class=\"dataframe\">\n",
       "  <thead>\n",
       "    <tr style=\"text-align: right;\">\n",
       "      <th></th>\n",
       "      <th>img.name</th>\n",
       "      <th>label</th>\n",
       "    </tr>\n",
       "  </thead>\n",
       "  <tbody>\n",
       "    <tr>\n",
       "      <th>0</th>\n",
       "      <td>car001.jpg</td>\n",
       "      <td>ر ب ل ١ ٨ ٢ ٧</td>\n",
       "    </tr>\n",
       "    <tr>\n",
       "      <th>1</th>\n",
       "      <td>car002.jpg</td>\n",
       "      <td>ى ن ر ٤ ٦ ٢ ٥</td>\n",
       "    </tr>\n",
       "    <tr>\n",
       "      <th>2</th>\n",
       "      <td>car003.jpg</td>\n",
       "      <td>ع س ط ١ ٣ ٧ ٥</td>\n",
       "    </tr>\n",
       "    <tr>\n",
       "      <th>3</th>\n",
       "      <td>car004.jpg</td>\n",
       "      <td>أ ج س ٤ ١ ٤ ٧</td>\n",
       "    </tr>\n",
       "    <tr>\n",
       "      <th>4</th>\n",
       "      <td>car005.jpg</td>\n",
       "      <td>ق ج ل ٢ ٧ ٣ ٩</td>\n",
       "    </tr>\n",
       "  </tbody>\n",
       "</table>\n",
       "</div>"
      ],
      "text/plain": [
       "     img.name           label\n",
       "0  car001.jpg   ر ب ل ١ ٨ ٢ ٧\n",
       "1  car002.jpg  ى ن ر ٤ ٦ ٢ ٥ \n",
       "2  car003.jpg  ع س ط ١ ٣ ٧ ٥ \n",
       "3  car004.jpg   أ ج س ٤ ١ ٤ ٧\n",
       "4  car005.jpg   ق ج ل ٢ ٧ ٣ ٩"
      ]
     },
     "execution_count": 2,
     "metadata": {},
     "output_type": "execute_result"
    }
   ],
   "source": [
    "\n",
    "# FIXING IMAGES EXTENSIONS\n",
    "\n",
    "for name in glob.glob(\"/car_plates/Pics/*\"):\n",
    "    if '.JPG' in name:\n",
    "        os.rename(name,name.replace('JPG','jpg'))\n",
    "\n",
    "# splitfolders.ratio(input=\"/car_plates/\", output=\"output\", seed=1337, ratio=(.8, 0.1,0.1))\n",
    "\n",
    "dataset=pd.read_csv(r'/car_plates/PoolLabels.csv')\n",
    "dataset.head()"
   ]
  },
  {
   "cell_type": "code",
   "execution_count": 3,
   "metadata": {},
   "outputs": [],
   "source": [
    "# FUNCTION TO REFORMAT THE LABELS IN DATASET\n",
    "\n",
    "def formatLabels(labels):\n",
    "    count = 0\n",
    "    labels = labels.apply(lambda x: x.replace(' ',''))\n",
    "    labels = labels.apply(lambda x: x + \"+\"*(7-len(x)))\n",
    "    labels = labels.apply(lambda x: list(x))        \n",
    "    return labels\n",
    "\n",
    "# FUNCTION TO REFORMAT THE IMAGES NAMES IN DATASET\n",
    "\n",
    "\n",
    "def checkName(name):\n",
    "    if 'JPG' in name:\n",
    "        return name.replace('JPG','jpg')\n",
    "    elif '.jpg' not in name:\n",
    "        return name + '.jpg'\n",
    "    else:\n",
    "        return name\n",
    "    \n",
    "# RUNNING BOTH FUNCTIONS ON DATASET    \n",
    "    \n",
    "dataset['img.name']=dataset['img.name'].apply(checkName)\n",
    "dataset['label'] = formatLabels(dataset.label)    "
   ]
  },
  {
   "cell_type": "code",
   "execution_count": 4,
   "metadata": {},
   "outputs": [
    {
     "name": "stdout",
     "output_type": "stream",
     "text": [
      "2725\n"
     ]
    }
   ],
   "source": [
    "from keras.layers import StringLookup\n",
    "\n",
    "arabic_num_alph={\n",
    "    \"١\":'1',\n",
    "    \"٢\":'2',\n",
    "    \"٣\":'3',\n",
    "    \"٤\":'4',\n",
    "    \"٥\":'5',\n",
    "    \"٦\":'6',\n",
    "    \"٧\":'7',\n",
    "    \"٨\":'8',\n",
    "    \"٩\":'9',\n",
    "    '+':'0',\n",
    "    \"أ\":'11',\n",
    "    'ص':'12',\n",
    "    'ف':'13',\n",
    "    'ل':'14',\n",
    "    'ح':'15',\n",
    "    'س':'16',\n",
    "    'د':'17',\n",
    "    'ي':'18',\n",
    "    'ر':'19',\n",
    "    'ز':'19',\n",
    "    'ن':'20',\n",
    "    'ك':'21',\n",
    "    \"ب\":'22',\n",
    "    'ط':'23',\n",
    "    'ا':'11',\n",
    "    'ج':'24',\n",
    "    'ى':'18',\n",
    "    'م':'25',\n",
    "    'ق':'26',\n",
    "    'ع':'27', \n",
    "    'ه':'28',\n",
    "    \"و\":'29'\n",
    "            }\n",
    "\n",
    "\n",
    "# MAKING ARABIC LETTERS AND NUMBERS TO ENGLISH NUMBERS AS SYMBOLS\n",
    "\n",
    "for index, label in enumerate(dataset['label']):\n",
    "    for char in label:\n",
    "        if(char in arabic_num_alph.keys()):    \n",
    "            # label=  list(map(lambda x: x.replace(char, arabic_num_alph.get(char)), label))\n",
    "            i = label.index(char)\n",
    "            label=label[:i]+[arabic_num_alph.get(char)]+label[i+1:]\n",
    "            dataset['label'][index]=label\n",
    "        else:\n",
    "            \n",
    "            dataset = dataset.drop(index=index)\n",
    "            break\n",
    "           \n",
    "            \n",
    "        \n",
    "    \n",
    "            \n",
    "# ONE HOT ENCODIN THE LABELS INTO MATRIX(7,30)\n",
    "\n",
    "for index, label in enumerate(dataset['label']):\n",
    "    matrix = np.zeros(shape=(7,30))\n",
    "    for char in label:\n",
    "        i = label.index(char)\n",
    "        column=int(char)\n",
    "        matrix[i][column]=1\n",
    "    dataset['label'][index]=matrix\n",
    "print(index)        \n",
    "            \n",
    "          \n",
    "# label 2000 IS CORRUPTED\n"
   ]
  },
  {
   "cell_type": "code",
   "execution_count": 5,
   "metadata": {},
   "outputs": [
    {
     "name": "stdout",
     "output_type": "stream",
     "text": [
      "100\n",
      "1771\n",
      "2051\n",
      "2052\n",
      "2053\n",
      "2057\n",
      "2058\n",
      "2059\n",
      "2060\n",
      "2061\n",
      "2062\n",
      "2063\n",
      "2091\n",
      "2118\n",
      "2129\n",
      "2135\n",
      "2152\n",
      "2153\n",
      "2246\n",
      "2369\n",
      "2370\n",
      "2371\n",
      "2372\n",
      "2373\n",
      "2374\n",
      "2375\n",
      "2376\n",
      "2377\n",
      "2378\n",
      "2379\n",
      "2380\n",
      "2381\n",
      "2382\n",
      "2383\n",
      "2384\n",
      "2385\n",
      "2386\n",
      "2387\n",
      "2388\n",
      "2389\n",
      "2390\n",
      "2391\n",
      "2392\n",
      "2393\n",
      "2394\n",
      "2395\n",
      "2396\n",
      "2397\n",
      "2398\n",
      "2399\n",
      "2400\n",
      "2401\n",
      "2402\n",
      "2403\n",
      "2404\n",
      "2405\n",
      "2406\n",
      "2407\n",
      "2408\n",
      "2409\n",
      "2410\n",
      "2411\n",
      "2412\n",
      "2413\n",
      "2414\n",
      "2415\n",
      "2416\n",
      "2417\n",
      "2418\n",
      "2419\n",
      "2420\n",
      "2421\n",
      "2422\n",
      "2423\n",
      "2424\n",
      "2425\n",
      "2426\n",
      "2427\n",
      "2428\n",
      "2429\n",
      "2430\n",
      "2431\n",
      "2432\n",
      "2433\n",
      "2434\n",
      "2435\n",
      "2436\n",
      "2437\n",
      "2438\n",
      "2439\n",
      "2440\n",
      "2441\n",
      "2442\n",
      "2443\n",
      "2444\n",
      "2445\n",
      "2446\n",
      "2447\n",
      "2448\n",
      "2449\n",
      "2450\n",
      "2451\n",
      "2452\n",
      "2453\n",
      "2454\n",
      "2455\n",
      "2456\n",
      "2457\n",
      "2458\n",
      "2459\n",
      "2460\n",
      "2461\n",
      "2462\n",
      "2463\n",
      "2464\n",
      "2465\n",
      "2466\n",
      "2467\n",
      "2468\n",
      "2469\n",
      "2470\n",
      "2471\n",
      "2472\n",
      "2473\n",
      "2474\n",
      "2475\n",
      "2476\n",
      "2477\n",
      "2478\n",
      "2479\n",
      "2480\n",
      "2481\n",
      "2482\n",
      "2483\n",
      "2484\n",
      "2485\n",
      "2486\n",
      "2487\n",
      "2488\n",
      "2489\n",
      "2490\n",
      "2491\n",
      "2492\n",
      "2493\n",
      "2494\n",
      "2495\n",
      "2496\n",
      "2497\n",
      "2498\n",
      "2499\n",
      "2500\n",
      "2501\n",
      "2502\n",
      "2503\n",
      "2504\n",
      "2505\n",
      "2506\n",
      "2507\n",
      "2508\n",
      "2509\n",
      "2510\n",
      "2511\n",
      "2512\n",
      "2513\n",
      "2514\n",
      "2515\n",
      "2516\n",
      "2517\n",
      "2518\n",
      "2725\n"
     ]
    }
   ],
   "source": [
    "directory='/car_plates/Pics/'\n",
    "img_path=[]\n",
    "\n",
    "for index,imgN in enumerate(dataset['img.name']):\n",
    "    try:\n",
    "        img_path.append(directory+dataset['img.name'][index])\n",
    "    except:\n",
    "        print(index)\n",
    "        continue    \n",
    "print(index)    "
   ]
  },
  {
   "cell_type": "code",
   "execution_count": 6,
   "metadata": {},
   "outputs": [
    {
     "data": {
      "text/plain": [
       "'/car_plates/Pics/car102.jpg'"
      ]
     },
     "execution_count": 6,
     "metadata": {},
     "output_type": "execute_result"
    }
   ],
   "source": [
    "img_path[100]"
   ]
  },
  {
   "cell_type": "code",
   "execution_count": 7,
   "metadata": {},
   "outputs": [],
   "source": [
    "# Path to the data directory\n",
    "# from pathlib import Path\n",
    "\n",
    "\n",
    "# data_dir = Path(\"./Pics/\")\n",
    "\n",
    "# # Get list of all the images\n",
    "# images = sorted(list(map(str, list(data_dir.glob(\"*.jpg\")))))\n"
   ]
  },
  {
   "cell_type": "code",
   "execution_count": 8,
   "metadata": {},
   "outputs": [
    {
     "name": "stdout",
     "output_type": "stream",
     "text": [
      "/car_plates/Pics/4_Aa.jpg\n",
      "/car_plates/Pics/5_Aa.jpg\n",
      "/car_plates/Pics/6_Aa.jpg\n"
     ]
    }
   ],
   "source": [
    "config_img=[]\n",
    "count=0\n",
    "for i in range(img_path.__len__()):\n",
    "    try:\n",
    "        img=cv2.imread(img_path[count])\n",
    "        img=cv2.cvtColor(img,cv2.COLOR_BGR2GRAY)\n",
    "        img=cv2.resize(img,(128,64))\n",
    "        config_img.append(img)\n",
    "        count=count+1\n",
    "    except:\n",
    "        print(img_path[count])\n",
    "        count=count+1\n",
    "        continue    \n"
   ]
  },
  {
   "cell_type": "code",
   "execution_count": 9,
   "metadata": {},
   "outputs": [
    {
     "name": "stderr",
     "output_type": "stream",
     "text": [
      "c:\\anaconda3\\envs\\tf2.4\\lib\\site-packages\\matplotlib\\text.py:1241: FutureWarning: elementwise comparison failed; returning scalar instead, but in the future will perform elementwise comparison\n",
      "  if s != self._text:\n"
     ]
    },
    {
     "name": "stdout",
     "output_type": "stream",
     "text": [
      "[[35 35 35 ... 28 28 29]\n",
      " [30 30 30 ... 28 28 29]\n",
      " [25 25 24 ... 27 28 29]\n",
      " ...\n",
      " [29 28 28 ... 34 35 36]\n",
      " [34 34 33 ... 31 31 32]\n",
      " [45 44 39 ... 30 30 30]]\n"
     ]
    },
    {
     "data": {
      "image/png": "[encoded data removed]",
      "text/plain": [
       "<Figure size 1200x1000 with 1 Axes>"
      ]
     },
     "metadata": {},
     "output_type": "display_data"
    }
   ],
   "source": [
    "from PIL import Image\n",
    "plt.figure(figsize = (12,10))\n",
    "plt.subplot(1,2,1)\n",
    "\n",
    "plt.title(dataset['label'][2])\n",
    "plt.imshow(config_img[2])\n",
    "print(config_img[2])"
   ]
  },
  {
   "cell_type": "code",
   "execution_count": 10,
   "metadata": {},
   "outputs": [
    {
     "ename": "ValueError",
     "evalue": "Found input variables with inconsistent numbers of samples: [2554, 2726]",
     "output_type": "error",
     "traceback": [
      "\u001b[1;31m---------------------------------------------------------------------------\u001b[0m",
      "\u001b[1;31mValueError\u001b[0m                                Traceback (most recent call last)",
      "Cell \u001b[1;32mIn[10], line 1\u001b[0m\n\u001b[1;32m----> 1\u001b[0m x_train,x_test,y_train,y_test\u001b[39m=\u001b[39mtrain_test_split(config_img,dataset[\u001b[39m'\u001b[39;49m\u001b[39mlabel\u001b[39;49m\u001b[39m'\u001b[39;49m],train_size\u001b[39m=\u001b[39;49m\u001b[39m0.5\u001b[39;49m)\n",
      "File \u001b[1;32mc:\\anaconda3\\envs\\tf2.4\\lib\\site-packages\\sklearn\\model_selection\\_split.py:2559\u001b[0m, in \u001b[0;36mtrain_test_split\u001b[1;34m(test_size, train_size, random_state, shuffle, stratify, *arrays)\u001b[0m\n\u001b[0;32m   2556\u001b[0m \u001b[39mif\u001b[39;00m n_arrays \u001b[39m==\u001b[39m \u001b[39m0\u001b[39m:\n\u001b[0;32m   2557\u001b[0m     \u001b[39mraise\u001b[39;00m \u001b[39mValueError\u001b[39;00m(\u001b[39m\"\u001b[39m\u001b[39mAt least one array required as input\u001b[39m\u001b[39m\"\u001b[39m)\n\u001b[1;32m-> 2559\u001b[0m arrays \u001b[39m=\u001b[39m indexable(\u001b[39m*\u001b[39;49marrays)\n\u001b[0;32m   2561\u001b[0m n_samples \u001b[39m=\u001b[39m _num_samples(arrays[\u001b[39m0\u001b[39m])\n\u001b[0;32m   2562\u001b[0m n_train, n_test \u001b[39m=\u001b[39m _validate_shuffle_split(\n\u001b[0;32m   2563\u001b[0m     n_samples, test_size, train_size, default_test_size\u001b[39m=\u001b[39m\u001b[39m0.25\u001b[39m\n\u001b[0;32m   2564\u001b[0m )\n",
      "File \u001b[1;32mc:\\anaconda3\\envs\\tf2.4\\lib\\site-packages\\sklearn\\utils\\validation.py:443\u001b[0m, in \u001b[0;36mindexable\u001b[1;34m(*iterables)\u001b[0m\n\u001b[0;32m    424\u001b[0m \u001b[39m\"\"\"Make arrays indexable for cross-validation.\u001b[39;00m\n\u001b[0;32m    425\u001b[0m \n\u001b[0;32m    426\u001b[0m \u001b[39mChecks consistent length, passes through None, and ensures that everything\u001b[39;00m\n\u001b[1;32m   (...)\u001b[0m\n\u001b[0;32m    439\u001b[0m \u001b[39m    sparse matrix, or dataframe) or `None`.\u001b[39;00m\n\u001b[0;32m    440\u001b[0m \u001b[39m\"\"\"\u001b[39;00m\n\u001b[0;32m    442\u001b[0m result \u001b[39m=\u001b[39m [_make_indexable(X) \u001b[39mfor\u001b[39;00m X \u001b[39min\u001b[39;00m iterables]\n\u001b[1;32m--> 443\u001b[0m check_consistent_length(\u001b[39m*\u001b[39;49mresult)\n\u001b[0;32m    444\u001b[0m \u001b[39mreturn\u001b[39;00m result\n",
      "File \u001b[1;32mc:\\anaconda3\\envs\\tf2.4\\lib\\site-packages\\sklearn\\utils\\validation.py:397\u001b[0m, in \u001b[0;36mcheck_consistent_length\u001b[1;34m(*arrays)\u001b[0m\n\u001b[0;32m    395\u001b[0m uniques \u001b[39m=\u001b[39m np\u001b[39m.\u001b[39munique(lengths)\n\u001b[0;32m    396\u001b[0m \u001b[39mif\u001b[39;00m \u001b[39mlen\u001b[39m(uniques) \u001b[39m>\u001b[39m \u001b[39m1\u001b[39m:\n\u001b[1;32m--> 397\u001b[0m     \u001b[39mraise\u001b[39;00m \u001b[39mValueError\u001b[39;00m(\n\u001b[0;32m    398\u001b[0m         \u001b[39m\"\u001b[39m\u001b[39mFound input variables with inconsistent numbers of samples: \u001b[39m\u001b[39m%r\u001b[39;00m\u001b[39m\"\u001b[39m\n\u001b[0;32m    399\u001b[0m         \u001b[39m%\u001b[39m [\u001b[39mint\u001b[39m(l) \u001b[39mfor\u001b[39;00m l \u001b[39min\u001b[39;00m lengths]\n\u001b[0;32m    400\u001b[0m     )\n",
      "\u001b[1;31mValueError\u001b[0m: Found input variables with inconsistent numbers of samples: [2554, 2726]"
     ]
    }
   ],
   "source": [
    "\n",
    "\n",
    "x_train,x_test,y_train,y_test=train_test_split(config_img,dataset['label'],train_size=0.5)\n"
   ]
  },
  {
   "cell_type": "code",
   "execution_count": null,
   "metadata": {},
   "outputs": [],
   "source": [
    "from keras.preprocessing.image import ImageDataGenerator\n",
    "\n",
    "train_datagen = ImageDataGenerator(\n",
    "    rescale = 1./255,\n",
    "    rotation_range=40,\n",
    "    width_shift_range=0.2,\n",
    "    height_shift_range=0.2,\n",
    "    shear_range=0.2,\n",
    "    zoom_range=0.2,\n",
    "   \n",
    "    fill_mode='nearest'\n",
    "    )\n",
    "test_datagen = ImageDataGenerator(rescale = 1./255)"
   ]
  },
  {
   "cell_type": "code",
   "execution_count": null,
   "metadata": {},
   "outputs": [
    {
     "ename": "NameError",
     "evalue": "name 'directory' is not defined",
     "output_type": "error",
     "traceback": [
      "\u001b[1;31m---------------------------------------------------------------------------\u001b[0m",
      "\u001b[1;31mNameError\u001b[0m                                 Traceback (most recent call last)",
      "Cell \u001b[1;32mIn[12], line 3\u001b[0m\n\u001b[0;32m      1\u001b[0m train_generator \u001b[39m=\u001b[39m train_datagen\u001b[39m.\u001b[39mflow_from_dataframe(\n\u001b[0;32m      2\u001b[0m     dataframe\u001b[39m=\u001b[39mdataset,\n\u001b[1;32m----> 3\u001b[0m     directory\u001b[39m=\u001b[39mdirectory,\n\u001b[0;32m      4\u001b[0m                   x_col\u001b[39m=\u001b[39m\u001b[39m'\u001b[39m\u001b[39mimg.name\u001b[39m\u001b[39m'\u001b[39m,\n\u001b[0;32m      5\u001b[0m                   y_col\u001b[39m=\u001b[39m\u001b[39m'\u001b[39m\u001b[39mlabel\u001b[39m\u001b[39m'\u001b[39m,\n\u001b[0;32m      6\u001b[0m                 \u001b[39m#   target_size =(300, 300),  # target_size = input image size\u001b[39;00m\n\u001b[0;32m      7\u001b[0m                 \n\u001b[0;32m      8\u001b[0m                   )\n\u001b[0;32m     10\u001b[0m \u001b[39m# # train_generator= train_datagen.flow_from_directory(\u001b[39;00m\n\u001b[0;32m     11\u001b[0m \u001b[39m# #   x_train\u001b[39;00m\n\u001b[0;32m     12\u001b[0m   \n\u001b[1;32m   (...)\u001b[0m\n\u001b[0;32m     18\u001b[0m \u001b[39m# #                     batch_size = 20,\u001b[39;00m\n\u001b[0;32m     19\u001b[0m \u001b[39m# #                     class_mode ='binary')\u001b[39;00m\n",
      "\u001b[1;31mNameError\u001b[0m: name 'directory' is not defined"
     ]
    }
   ],
   "source": [
    "train_generator = train_datagen.flow_from_dataframe(\n",
    "    dataframe=dataset,\n",
    "    directory=directory,\n",
    "                  x_col='img.name',\n",
    "                  y_col='label',\n",
    "                #   target_size =(300, 300),  # target_size = input image size\n",
    "                \n",
    "                  )\n",
    "\n",
    "# # train_generator= train_datagen.flow_from_directory(\n",
    "# #   x_train\n",
    "  \n",
    "# # )\n",
    "\n",
    "# # test_generator = test_datagen.flow_from_dataframe(\n",
    "# #                     x_test,\n",
    "# #                     target_size =(150, 150),\n",
    "# #                     batch_size = 20,\n",
    "# #                     class_mode ='binary')"
   ]
  },
  {
   "cell_type": "code",
   "execution_count": null,
   "metadata": {},
   "outputs": [],
   "source": [
    "from keras.layers import Activation, Dense\n",
    "\n",
    "model =tf.keras.models.Sequential([\n",
    " tf.keras.layers.Conv2D(32, (3,3), activation='relu' ,\n",
    " input_shape=(256, 256, 3)),\n",
    " tf.keras.layers.MaxPooling2D(2, 2),\n",
    " tf.keras.layers.Conv2D(64, (3,3), activation='relu'),\n",
    " tf.keras.layers.MaxPooling2D(2,2),\n",
    " tf.keras.layers.Conv2D(128, (3,3), activation='relu'),\n",
    " tf.keras.layers.MaxPooling2D(2,2),\n",
    " tf.keras.layers.Flatten(),\n",
    " tf.keras.layers.Dense(512, activation='relu'),\n",
    " tf.keras.layers.Dense(512, activation='relu'),\n",
    " tf.keras.layers.Dense(1, activation='softmax'),\n",
    " tf.keras.layers.Dense(1, activation='softmax'),\n",
    " tf.keras.layers.Dense(1, activation='softmax'),\n",
    " tf.keras.layers.Dense(1, activation='softmax'),\n",
    " tf.keras.layers.Dense(1, activation='softmax'),\n",
    " tf.keras.layers.Dense(1, activation='softmax'),\n",
    " tf.keras.layers.Dense(1, activation='softmax'), \n",
    "  \n",
    " ])\n",
    "\n",
    "\n"
   ]
  },
  {
   "cell_type": "code",
   "execution_count": null,
   "metadata": {},
   "outputs": [],
   "source": [
    "model.compile(loss='categorical_crossentropy',\n",
    " optimizer='adam',\n",
    "# RMSprop(lr=0.001)\n",
    " metrics=['accuracy'])"
   ]
  },
  {
   "cell_type": "code",
   "execution_count": null,
   "metadata": {},
   "outputs": [
    {
     "name": "stdout",
     "output_type": "stream",
     "text": [
      "Model: \"sequential\"\n",
      "_________________________________________________________________\n",
      " Layer (type)                Output Shape              Param #   \n",
      "=================================================================\n",
      " conv2d (Conv2D)             (None, 254, 254, 32)      896       \n",
      "                                                                 \n",
      " max_pooling2d (MaxPooling2D  (None, 127, 127, 32)     0         \n",
      " )                                                               \n",
      "                                                                 \n",
      " conv2d_1 (Conv2D)           (None, 125, 125, 64)      18496     \n",
      "                                                                 \n",
      " max_pooling2d_1 (MaxPooling  (None, 62, 62, 64)       0         \n",
      " 2D)                                                             \n",
      "                                                                 \n",
      " conv2d_2 (Conv2D)           (None, 60, 60, 128)       73856     \n",
      "                                                                 \n",
      " max_pooling2d_2 (MaxPooling  (None, 30, 30, 128)      0         \n",
      " 2D)                                                             \n",
      "                                                                 \n",
      " flatten (Flatten)           (None, 115200)            0         \n",
      "                                                                 \n",
      " dense (Dense)               (None, 512)               58982912  \n",
      "                                                                 \n",
      " dense_1 (Dense)             (None, 512)               262656    \n",
      "                                                                 \n",
      " dense_2 (Dense)             (None, 1)                 513       \n",
      "                                                                 \n",
      " dense_3 (Dense)             (None, 1)                 2         \n",
      "                                                                 \n",
      " dense_4 (Dense)             (None, 1)                 2         \n",
      "                                                                 \n",
      " dense_5 (Dense)             (None, 1)                 2         \n",
      "                                                                 \n",
      " dense_6 (Dense)             (None, 1)                 2         \n",
      "                                                                 \n",
      " dense_7 (Dense)             (None, 1)                 2         \n",
      "                                                                 \n",
      " dense_8 (Dense)             (None, 1)                 2         \n",
      "                                                                 \n",
      "=================================================================\n",
      "Total params: 59,339,341\n",
      "Trainable params: 59,339,341\n",
      "Non-trainable params: 0\n",
      "_________________________________________________________________\n"
     ]
    }
   ],
   "source": [
    "model.summary()"
   ]
  },
  {
   "cell_type": "code",
   "execution_count": null,
   "metadata": {},
   "outputs": [
    {
     "name": "stdout",
     "output_type": "stream",
     "text": [
      "Epoch 1/20\n"
     ]
    },
    {
     "ename": "InvalidArgumentError",
     "evalue": "Graph execution error:\n\nDetected at node 'gradient_tape/sequential/dense_8/MatMul/MatMul' defined at (most recent call last):\n    File \"c:\\anaconda3\\envs\\tf2.4\\lib\\runpy.py\", line 196, in _run_module_as_main\n      return _run_code(code, main_globals, None,\n    File \"c:\\anaconda3\\envs\\tf2.4\\lib\\runpy.py\", line 86, in _run_code\n      exec(code, run_globals)\n    File \"c:\\anaconda3\\envs\\tf2.4\\lib\\site-packages\\ipykernel_launcher.py\", line 17, in <module>\n      app.launch_new_instance()\n    File \"c:\\anaconda3\\envs\\tf2.4\\lib\\site-packages\\traitlets\\config\\application.py\", line 992, in launch_instance\n      app.start()\n    File \"c:\\anaconda3\\envs\\tf2.4\\lib\\site-packages\\ipykernel\\kernelapp.py\", line 711, in start\n      self.io_loop.start()\n    File \"c:\\anaconda3\\envs\\tf2.4\\lib\\site-packages\\tornado\\platform\\asyncio.py\", line 215, in start\n      self.asyncio_loop.run_forever()\n    File \"c:\\anaconda3\\envs\\tf2.4\\lib\\asyncio\\base_events.py\", line 595, in run_forever\n      self._run_once()\n    File \"c:\\anaconda3\\envs\\tf2.4\\lib\\asyncio\\base_events.py\", line 1881, in _run_once\n      handle._run()\n    File \"c:\\anaconda3\\envs\\tf2.4\\lib\\asyncio\\events.py\", line 80, in _run\n      self._context.run(self._callback, *self._args)\n    File \"c:\\anaconda3\\envs\\tf2.4\\lib\\site-packages\\ipykernel\\kernelbase.py\", line 510, in dispatch_queue\n      await self.process_one()\n    File \"c:\\anaconda3\\envs\\tf2.4\\lib\\site-packages\\ipykernel\\kernelbase.py\", line 499, in process_one\n      await dispatch(*args)\n    File \"c:\\anaconda3\\envs\\tf2.4\\lib\\site-packages\\ipykernel\\kernelbase.py\", line 406, in dispatch_shell\n      await result\n    File \"c:\\anaconda3\\envs\\tf2.4\\lib\\site-packages\\ipykernel\\kernelbase.py\", line 729, in execute_request\n      reply_content = await reply_content\n    File \"c:\\anaconda3\\envs\\tf2.4\\lib\\site-packages\\ipykernel\\ipkernel.py\", line 411, in do_execute\n      res = shell.run_cell(\n    File \"c:\\anaconda3\\envs\\tf2.4\\lib\\site-packages\\ipykernel\\zmqshell.py\", line 531, in run_cell\n      return super().run_cell(*args, **kwargs)\n    File \"c:\\anaconda3\\envs\\tf2.4\\lib\\site-packages\\IPython\\core\\interactiveshell.py\", line 2940, in run_cell\n      result = self._run_cell(\n    File \"c:\\anaconda3\\envs\\tf2.4\\lib\\site-packages\\IPython\\core\\interactiveshell.py\", line 2995, in _run_cell\n      return runner(coro)\n    File \"c:\\anaconda3\\envs\\tf2.4\\lib\\site-packages\\IPython\\core\\async_helpers.py\", line 129, in _pseudo_sync_runner\n      coro.send(None)\n    File \"c:\\anaconda3\\envs\\tf2.4\\lib\\site-packages\\IPython\\core\\interactiveshell.py\", line 3194, in run_cell_async\n      has_raised = await self.run_ast_nodes(code_ast.body, cell_name,\n    File \"c:\\anaconda3\\envs\\tf2.4\\lib\\site-packages\\IPython\\core\\interactiveshell.py\", line 3373, in run_ast_nodes\n      if await self.run_code(code, result, async_=asy):\n    File \"c:\\anaconda3\\envs\\tf2.4\\lib\\site-packages\\IPython\\core\\interactiveshell.py\", line 3433, in run_code\n      exec(code_obj, self.user_global_ns, self.user_ns)\n    File \"C:\\Users\\Ahmed Medhat\\AppData\\Local\\Temp\\ipykernel_7044\\985314521.py\", line 1, in <module>\n      model.fit(\n    File \"c:\\anaconda3\\envs\\tf2.4\\lib\\site-packages\\keras\\utils\\traceback_utils.py\", line 65, in error_handler\n      return fn(*args, **kwargs)\n    File \"c:\\anaconda3\\envs\\tf2.4\\lib\\site-packages\\keras\\engine\\training.py\", line 1650, in fit\n      tmp_logs = self.train_function(iterator)\n    File \"c:\\anaconda3\\envs\\tf2.4\\lib\\site-packages\\keras\\engine\\training.py\", line 1249, in train_function\n      return step_function(self, iterator)\n    File \"c:\\anaconda3\\envs\\tf2.4\\lib\\site-packages\\keras\\engine\\training.py\", line 1233, in step_function\n      outputs = model.distribute_strategy.run(run_step, args=(data,))\n    File \"c:\\anaconda3\\envs\\tf2.4\\lib\\site-packages\\keras\\engine\\training.py\", line 1222, in run_step\n      outputs = model.train_step(data)\n    File \"c:\\anaconda3\\envs\\tf2.4\\lib\\site-packages\\keras\\engine\\training.py\", line 1027, in train_step\n      self.optimizer.minimize(loss, self.trainable_variables, tape=tape)\n    File \"c:\\anaconda3\\envs\\tf2.4\\lib\\site-packages\\keras\\optimizers\\optimizer_experimental\\optimizer.py\", line 526, in minimize\n      grads_and_vars = self.compute_gradients(loss, var_list, tape)\n    File \"c:\\anaconda3\\envs\\tf2.4\\lib\\site-packages\\keras\\optimizers\\optimizer_experimental\\optimizer.py\", line 259, in compute_gradients\n      grads = tape.gradient(loss, var_list)\nNode: 'gradient_tape/sequential/dense_8/MatMul/MatMul'\nMatrix size-incompatible: In[0]: [32,50], In[1]: [1,1]\n\t [[{{node gradient_tape/sequential/dense_8/MatMul/MatMul}}]] [Op:__inference_train_function_3047]",
     "output_type": "error",
     "traceback": [
      "\u001b[1;31m---------------------------------------------------------------------------\u001b[0m",
      "\u001b[1;31mInvalidArgumentError\u001b[0m                      Traceback (most recent call last)",
      "Cell \u001b[1;32mIn[22], line 1\u001b[0m\n\u001b[1;32m----> 1\u001b[0m model\u001b[39m.\u001b[39;49mfit(\n\u001b[0;32m      2\u001b[0m     train_generator,\n\u001b[0;32m      3\u001b[0m     \n\u001b[0;32m      4\u001b[0m     \n\u001b[0;32m      5\u001b[0m     epochs\u001b[39m=\u001b[39;49m\u001b[39m20\u001b[39;49m,\n\u001b[0;32m      6\u001b[0m     )\n",
      "File \u001b[1;32mc:\\anaconda3\\envs\\tf2.4\\lib\\site-packages\\keras\\utils\\traceback_utils.py:70\u001b[0m, in \u001b[0;36mfilter_traceback.<locals>.error_handler\u001b[1;34m(*args, **kwargs)\u001b[0m\n\u001b[0;32m     67\u001b[0m     filtered_tb \u001b[39m=\u001b[39m _process_traceback_frames(e\u001b[39m.\u001b[39m__traceback__)\n\u001b[0;32m     68\u001b[0m     \u001b[39m# To get the full stack trace, call:\u001b[39;00m\n\u001b[0;32m     69\u001b[0m     \u001b[39m# `tf.debugging.disable_traceback_filtering()`\u001b[39;00m\n\u001b[1;32m---> 70\u001b[0m     \u001b[39mraise\u001b[39;00m e\u001b[39m.\u001b[39mwith_traceback(filtered_tb) \u001b[39mfrom\u001b[39;00m \u001b[39mNone\u001b[39m\n\u001b[0;32m     71\u001b[0m \u001b[39mfinally\u001b[39;00m:\n\u001b[0;32m     72\u001b[0m     \u001b[39mdel\u001b[39;00m filtered_tb\n",
      "File \u001b[1;32mc:\\anaconda3\\envs\\tf2.4\\lib\\site-packages\\tensorflow\\python\\eager\\execute.py:52\u001b[0m, in \u001b[0;36mquick_execute\u001b[1;34m(op_name, num_outputs, inputs, attrs, ctx, name)\u001b[0m\n\u001b[0;32m     50\u001b[0m \u001b[39mtry\u001b[39;00m:\n\u001b[0;32m     51\u001b[0m   ctx\u001b[39m.\u001b[39mensure_initialized()\n\u001b[1;32m---> 52\u001b[0m   tensors \u001b[39m=\u001b[39m pywrap_tfe\u001b[39m.\u001b[39mTFE_Py_Execute(ctx\u001b[39m.\u001b[39m_handle, device_name, op_name,\n\u001b[0;32m     53\u001b[0m                                       inputs, attrs, num_outputs)\n\u001b[0;32m     54\u001b[0m \u001b[39mexcept\u001b[39;00m core\u001b[39m.\u001b[39m_NotOkStatusException \u001b[39mas\u001b[39;00m e:\n\u001b[0;32m     55\u001b[0m   \u001b[39mif\u001b[39;00m name \u001b[39mis\u001b[39;00m \u001b[39mnot\u001b[39;00m \u001b[39mNone\u001b[39;00m:\n",
      "\u001b[1;31mInvalidArgumentError\u001b[0m: Graph execution error:\n\nDetected at node 'gradient_tape/sequential/dense_8/MatMul/MatMul' defined at (most recent call last):\n    File \"c:\\anaconda3\\envs\\tf2.4\\lib\\runpy.py\", line 196, in _run_module_as_main\n      return _run_code(code, main_globals, None,\n    File \"c:\\anaconda3\\envs\\tf2.4\\lib\\runpy.py\", line 86, in _run_code\n      exec(code, run_globals)\n    File \"c:\\anaconda3\\envs\\tf2.4\\lib\\site-packages\\ipykernel_launcher.py\", line 17, in <module>\n      app.launch_new_instance()\n    File \"c:\\anaconda3\\envs\\tf2.4\\lib\\site-packages\\traitlets\\config\\application.py\", line 992, in launch_instance\n      app.start()\n    File \"c:\\anaconda3\\envs\\tf2.4\\lib\\site-packages\\ipykernel\\kernelapp.py\", line 711, in start\n      self.io_loop.start()\n    File \"c:\\anaconda3\\envs\\tf2.4\\lib\\site-packages\\tornado\\platform\\asyncio.py\", line 215, in start\n      self.asyncio_loop.run_forever()\n    File \"c:\\anaconda3\\envs\\tf2.4\\lib\\asyncio\\base_events.py\", line 595, in run_forever\n      self._run_once()\n    File \"c:\\anaconda3\\envs\\tf2.4\\lib\\asyncio\\base_events.py\", line 1881, in _run_once\n      handle._run()\n    File \"c:\\anaconda3\\envs\\tf2.4\\lib\\asyncio\\events.py\", line 80, in _run\n      self._context.run(self._callback, *self._args)\n    File \"c:\\anaconda3\\envs\\tf2.4\\lib\\site-packages\\ipykernel\\kernelbase.py\", line 510, in dispatch_queue\n      await self.process_one()\n    File \"c:\\anaconda3\\envs\\tf2.4\\lib\\site-packages\\ipykernel\\kernelbase.py\", line 499, in process_one\n      await dispatch(*args)\n    File \"c:\\anaconda3\\envs\\tf2.4\\lib\\site-packages\\ipykernel\\kernelbase.py\", line 406, in dispatch_shell\n      await result\n    File \"c:\\anaconda3\\envs\\tf2.4\\lib\\site-packages\\ipykernel\\kernelbase.py\", line 729, in execute_request\n      reply_content = await reply_content\n    File \"c:\\anaconda3\\envs\\tf2.4\\lib\\site-packages\\ipykernel\\ipkernel.py\", line 411, in do_execute\n      res = shell.run_cell(\n    File \"c:\\anaconda3\\envs\\tf2.4\\lib\\site-packages\\ipykernel\\zmqshell.py\", line 531, in run_cell\n      return super().run_cell(*args, **kwargs)\n    File \"c:\\anaconda3\\envs\\tf2.4\\lib\\site-packages\\IPython\\core\\interactiveshell.py\", line 2940, in run_cell\n      result = self._run_cell(\n    File \"c:\\anaconda3\\envs\\tf2.4\\lib\\site-packages\\IPython\\core\\interactiveshell.py\", line 2995, in _run_cell\n      return runner(coro)\n    File \"c:\\anaconda3\\envs\\tf2.4\\lib\\site-packages\\IPython\\core\\async_helpers.py\", line 129, in _pseudo_sync_runner\n      coro.send(None)\n    File \"c:\\anaconda3\\envs\\tf2.4\\lib\\site-packages\\IPython\\core\\interactiveshell.py\", line 3194, in run_cell_async\n      has_raised = await self.run_ast_nodes(code_ast.body, cell_name,\n    File \"c:\\anaconda3\\envs\\tf2.4\\lib\\site-packages\\IPython\\core\\interactiveshell.py\", line 3373, in run_ast_nodes\n      if await self.run_code(code, result, async_=asy):\n    File \"c:\\anaconda3\\envs\\tf2.4\\lib\\site-packages\\IPython\\core\\interactiveshell.py\", line 3433, in run_code\n      exec(code_obj, self.user_global_ns, self.user_ns)\n    File \"C:\\Users\\Ahmed Medhat\\AppData\\Local\\Temp\\ipykernel_7044\\985314521.py\", line 1, in <module>\n      model.fit(\n    File \"c:\\anaconda3\\envs\\tf2.4\\lib\\site-packages\\keras\\utils\\traceback_utils.py\", line 65, in error_handler\n      return fn(*args, **kwargs)\n    File \"c:\\anaconda3\\envs\\tf2.4\\lib\\site-packages\\keras\\engine\\training.py\", line 1650, in fit\n      tmp_logs = self.train_function(iterator)\n    File \"c:\\anaconda3\\envs\\tf2.4\\lib\\site-packages\\keras\\engine\\training.py\", line 1249, in train_function\n      return step_function(self, iterator)\n    File \"c:\\anaconda3\\envs\\tf2.4\\lib\\site-packages\\keras\\engine\\training.py\", line 1233, in step_function\n      outputs = model.distribute_strategy.run(run_step, args=(data,))\n    File \"c:\\anaconda3\\envs\\tf2.4\\lib\\site-packages\\keras\\engine\\training.py\", line 1222, in run_step\n      outputs = model.train_step(data)\n    File \"c:\\anaconda3\\envs\\tf2.4\\lib\\site-packages\\keras\\engine\\training.py\", line 1027, in train_step\n      self.optimizer.minimize(loss, self.trainable_variables, tape=tape)\n    File \"c:\\anaconda3\\envs\\tf2.4\\lib\\site-packages\\keras\\optimizers\\optimizer_experimental\\optimizer.py\", line 526, in minimize\n      grads_and_vars = self.compute_gradients(loss, var_list, tape)\n    File \"c:\\anaconda3\\envs\\tf2.4\\lib\\site-packages\\keras\\optimizers\\optimizer_experimental\\optimizer.py\", line 259, in compute_gradients\n      grads = tape.gradient(loss, var_list)\nNode: 'gradient_tape/sequential/dense_8/MatMul/MatMul'\nMatrix size-incompatible: In[0]: [32,50], In[1]: [1,1]\n\t [[{{node gradient_tape/sequential/dense_8/MatMul/MatMul}}]] [Op:__inference_train_function_3047]"
     ]
    }
   ],
   "source": [
    "model.fit(\n",
    "    train_generator,\n",
    "    \n",
    "    \n",
    "    epochs=20,\n",
    "    )"
   ]
  }
 ],
 "metadata": {
  "kernelspec": {
   "display_name": "tf2.4",
   "language": "python",
   "name": "python3"
  },
  "language_info": {
   "codemirror_mode": {
    "name": "ipython",
    "version": 3
   },
   "file_extension": ".py",
   "mimetype": "text/x-python",
   "name": "python",
   "nbconvert_exporter": "python",
   "pygments_lexer": "ipython3",
   "version": "3.10.0"
  },
  "orig_nbformat": 4,
  "vscode": {
   "interpreter": {
    "hash": "253ae6feff4fd1b8c72e2ad785b88438628b5b076110376ae0f22865de7b119a"
   }
  }
 },
 "nbformat": 4,
 "nbformat_minor": 2
}
